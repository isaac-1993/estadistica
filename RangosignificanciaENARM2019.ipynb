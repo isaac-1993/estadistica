{
 "cells": [
  {
   "cell_type": "markdown",
   "metadata": {},
   "source": [
    "# Rango de signifficancia dificultad ENARM PG "
   ]
  },
  {
   "cell_type": "markdown",
   "metadata": {},
   "source": [
    "#### Los resultados ENARM 2019 ya han sido publicados. Supongamos y sólo supongamos que la Ultra Derecha opresora acusa al “Peje” de haber disminuido la dificultad del ENARM con el fin de cubrir la demanda de médicos en el país."
   ]
  },
  {
   "cell_type": "markdown",
   "metadata": {},
   "source": [
    "<img src=\"https://i.imgur.com/oSSKkfd.png\" width=\"500\">"
   ]
  },
  {
   "cell_type": "markdown",
   "metadata": {},
   "source": [
    "## Mediante el Rango de Significancia valide o rechace la acusación. "
   ]
  },
  {
   "cell_type": "markdown",
   "metadata": {},
   "source": [
    "<img src=\"https://i.imgur.com/n8DzCCb.jpg\" width=\"350\">"
   ]
  },
  {
   "cell_type": "markdown",
   "metadata": {},
   "source": [
    "## Carga ENARM"
   ]
  },
  {
   "cell_type": "code",
   "execution_count": 4,
   "metadata": {},
   "outputs": [
    {
     "data": {
      "text/html": [
       "<table>\n",
       "<thead><tr><th scope=col>ï..ENTIDAD.FEDERATIVA</th><th scope=col>FACULTAD.O.ESCUELA.DE.MEDICINA</th><th scope=col>SUSTENTANTES</th><th scope=col>SELECCIONADOS</th><th scope=col>PROMEDIO.GENERAL</th><th scope=col>AGNO</th></tr></thead>\n",
       "<tbody>\n",
       "\t<tr><td>AGUASCALIENTES                                 </td><td>UNIV. AUT. DE AGUASCALIENTES                   </td><td>239                                            </td><td>84                                             </td><td>67.52                                          </td><td>2017                                           </td></tr>\n",
       "\t<tr><td>AGUASCALIENTES                                 </td><td>UNIV. CUAUHTEMOC - PLANTEL AGUASCALIENTES      </td><td> 72                                            </td><td> 9                                             </td><td>63.81                                          </td><td>2017                                           </td></tr>\n",
       "\t<tr><td>BAJA CALIFORNIA                                </td><td>CENTRO EST. UNIV. XOCHICALCO, U. ENSENADA      </td><td>247                                            </td><td>48                                             </td><td>61.16                                          </td><td>2017                                           </td></tr>\n",
       "\t<tr><td>BAJA CALIFORNIA                                </td><td>CENTRO EST. UNIV. XOCHICALCO, U. TIJUANA       </td><td>152                                            </td><td>30                                             </td><td>62.48                                          </td><td>2017                                           </td></tr>\n",
       "\t<tr><td>BAJA CALIFORNIA                                </td><td>UNIV. AUT. DE B.C. - CAMPUS VALLE DE LAS PALMAS</td><td>135                                            </td><td>16                                             </td><td>62.70                                          </td><td>2017                                           </td></tr>\n",
       "\t<tr><td>BAJA CALIFORNIA                                </td><td>UNIV. AUT. DE B.C., U. ENSENADA                </td><td>188                                            </td><td>55                                             </td><td>64.88                                          </td><td>2017                                           </td></tr>\n",
       "</tbody>\n",
       "</table>\n"
      ],
      "text/latex": [
       "\\begin{tabular}{r|llllll}\n",
       " ï..ENTIDAD.FEDERATIVA & FACULTAD.O.ESCUELA.DE.MEDICINA & SUSTENTANTES & SELECCIONADOS & PROMEDIO.GENERAL & AGNO\\\\\n",
       "\\hline\n",
       "\t AGUASCALIENTES                                  & UNIV. AUT. DE AGUASCALIENTES                    & 239                                             & 84                                              & 67.52                                           & 2017                                           \\\\\n",
       "\t AGUASCALIENTES                                  & UNIV. CUAUHTEMOC - PLANTEL AGUASCALIENTES       &  72                                             &  9                                              & 63.81                                           & 2017                                           \\\\\n",
       "\t BAJA CALIFORNIA                                 & CENTRO EST. UNIV. XOCHICALCO, U. ENSENADA       & 247                                             & 48                                              & 61.16                                           & 2017                                           \\\\\n",
       "\t BAJA CALIFORNIA                                 & CENTRO EST. UNIV. XOCHICALCO, U. TIJUANA        & 152                                             & 30                                              & 62.48                                           & 2017                                           \\\\\n",
       "\t BAJA CALIFORNIA                                 & UNIV. AUT. DE B.C. - CAMPUS VALLE DE LAS PALMAS & 135                                             & 16                                              & 62.70                                           & 2017                                           \\\\\n",
       "\t BAJA CALIFORNIA                                 & UNIV. AUT. DE B.C., U. ENSENADA                 & 188                                             & 55                                              & 64.88                                           & 2017                                           \\\\\n",
       "\\end{tabular}\n"
      ],
      "text/markdown": [
       "\n",
       "| ï..ENTIDAD.FEDERATIVA | FACULTAD.O.ESCUELA.DE.MEDICINA | SUSTENTANTES | SELECCIONADOS | PROMEDIO.GENERAL | AGNO |\n",
       "|---|---|---|---|---|---|\n",
       "| AGUASCALIENTES                                  | UNIV. AUT. DE AGUASCALIENTES                    | 239                                             | 84                                              | 67.52                                           | 2017                                            |\n",
       "| AGUASCALIENTES                                  | UNIV. CUAUHTEMOC - PLANTEL AGUASCALIENTES       |  72                                             |  9                                              | 63.81                                           | 2017                                            |\n",
       "| BAJA CALIFORNIA                                 | CENTRO EST. UNIV. XOCHICALCO, U. ENSENADA       | 247                                             | 48                                              | 61.16                                           | 2017                                            |\n",
       "| BAJA CALIFORNIA                                 | CENTRO EST. UNIV. XOCHICALCO, U. TIJUANA        | 152                                             | 30                                              | 62.48                                           | 2017                                            |\n",
       "| BAJA CALIFORNIA                                 | UNIV. AUT. DE B.C. - CAMPUS VALLE DE LAS PALMAS | 135                                             | 16                                              | 62.70                                           | 2017                                            |\n",
       "| BAJA CALIFORNIA                                 | UNIV. AUT. DE B.C., U. ENSENADA                 | 188                                             | 55                                              | 64.88                                           | 2017                                            |\n",
       "\n"
      ],
      "text/plain": [
       "  ï..ENTIDAD.FEDERATIVA FACULTAD.O.ESCUELA.DE.MEDICINA                 \n",
       "1 AGUASCALIENTES        UNIV. AUT. DE AGUASCALIENTES                   \n",
       "2 AGUASCALIENTES        UNIV. CUAUHTEMOC - PLANTEL AGUASCALIENTES      \n",
       "3 BAJA CALIFORNIA       CENTRO EST. UNIV. XOCHICALCO, U. ENSENADA      \n",
       "4 BAJA CALIFORNIA       CENTRO EST. UNIV. XOCHICALCO, U. TIJUANA       \n",
       "5 BAJA CALIFORNIA       UNIV. AUT. DE B.C. - CAMPUS VALLE DE LAS PALMAS\n",
       "6 BAJA CALIFORNIA       UNIV. AUT. DE B.C., U. ENSENADA                \n",
       "  SUSTENTANTES SELECCIONADOS PROMEDIO.GENERAL AGNO\n",
       "1 239          84            67.52            2017\n",
       "2  72           9            63.81            2017\n",
       "3 247          48            61.16            2017\n",
       "4 152          30            62.48            2017\n",
       "5 135          16            62.70            2017\n",
       "6 188          55            64.88            2017"
      ]
     },
     "metadata": {},
     "output_type": "display_data"
    }
   ],
   "source": [
    "datos18 <- read.csv(\"Desktop//enarm.csv\", header= T)\n",
    "head (datos18)\n"
   ]
  },
  {
   "cell_type": "code",
   "execution_count": 44,
   "metadata": {
    "scrolled": true
   },
   "outputs": [
    {
     "data": {
      "text/html": [
       "<table>\n",
       "<thead><tr><th scope=col>ENTIDAD</th><th scope=col>ESCUELA</th><th scope=col>SUSTENTANTES</th><th scope=col>SELECCIONADOS</th><th scope=col>PROMEDIO</th></tr></thead>\n",
       "<tbody>\n",
       "\t<tr><td>AGUASCALIENTES                                 </td><td>UNIV. AUT. DE AGUASCALIENTES                   </td><td>277                                            </td><td>122                                            </td><td>66.781                                         </td></tr>\n",
       "\t<tr><td>AGUASCALIENTES                                 </td><td>UNIV. CUAUHTEMOC - CAMPUS AGUASCALIENTES       </td><td> 63                                            </td><td> 21                                            </td><td>62.571                                         </td></tr>\n",
       "\t<tr><td>BAJA CALIFORNIA                                </td><td>CENTRO EST. UNIV. XOCHICALCO, U. ENSENADA      </td><td>237                                            </td><td> 38                                            </td><td>58.180                                         </td></tr>\n",
       "\t<tr><td>BAJA CALIFORNIA                                </td><td>CENTRO EST. UNIV. XOCHICALCO, U. TIJUANA       </td><td>175                                            </td><td> 29                                            </td><td>61.482                                         </td></tr>\n",
       "\t<tr><td>BAJA CALIFORNIA                                </td><td>UNIV. AUT. DE B.C. - CAMPUS VALLE DE LAS PALMAS</td><td>182                                            </td><td> 37                                            </td><td>61.430                                         </td></tr>\n",
       "\t<tr><td>BAJA CALIFORNIA                                </td><td>UNIV. AUT. DE B.C., U. ENSENADA                </td><td>219                                            </td><td> 52                                            </td><td>61.996                                         </td></tr>\n",
       "</tbody>\n",
       "</table>\n"
      ],
      "text/latex": [
       "\\begin{tabular}{r|lllll}\n",
       " ENTIDAD & ESCUELA & SUSTENTANTES & SELECCIONADOS & PROMEDIO\\\\\n",
       "\\hline\n",
       "\t AGUASCALIENTES                                  & UNIV. AUT. DE AGUASCALIENTES                    & 277                                             & 122                                             & 66.781                                         \\\\\n",
       "\t AGUASCALIENTES                                  & UNIV. CUAUHTEMOC - CAMPUS AGUASCALIENTES        &  63                                             &  21                                             & 62.571                                         \\\\\n",
       "\t BAJA CALIFORNIA                                 & CENTRO EST. UNIV. XOCHICALCO, U. ENSENADA       & 237                                             &  38                                             & 58.180                                         \\\\\n",
       "\t BAJA CALIFORNIA                                 & CENTRO EST. UNIV. XOCHICALCO, U. TIJUANA        & 175                                             &  29                                             & 61.482                                         \\\\\n",
       "\t BAJA CALIFORNIA                                 & UNIV. AUT. DE B.C. - CAMPUS VALLE DE LAS PALMAS & 182                                             &  37                                             & 61.430                                         \\\\\n",
       "\t BAJA CALIFORNIA                                 & UNIV. AUT. DE B.C., U. ENSENADA                 & 219                                             &  52                                             & 61.996                                         \\\\\n",
       "\\end{tabular}\n"
      ],
      "text/markdown": [
       "\n",
       "| ENTIDAD | ESCUELA | SUSTENTANTES | SELECCIONADOS | PROMEDIO |\n",
       "|---|---|---|---|---|\n",
       "| AGUASCALIENTES                                  | UNIV. AUT. DE AGUASCALIENTES                    | 277                                             | 122                                             | 66.781                                          |\n",
       "| AGUASCALIENTES                                  | UNIV. CUAUHTEMOC - CAMPUS AGUASCALIENTES        |  63                                             |  21                                             | 62.571                                          |\n",
       "| BAJA CALIFORNIA                                 | CENTRO EST. UNIV. XOCHICALCO, U. ENSENADA       | 237                                             |  38                                             | 58.180                                          |\n",
       "| BAJA CALIFORNIA                                 | CENTRO EST. UNIV. XOCHICALCO, U. TIJUANA        | 175                                             |  29                                             | 61.482                                          |\n",
       "| BAJA CALIFORNIA                                 | UNIV. AUT. DE B.C. - CAMPUS VALLE DE LAS PALMAS | 182                                             |  37                                             | 61.430                                          |\n",
       "| BAJA CALIFORNIA                                 | UNIV. AUT. DE B.C., U. ENSENADA                 | 219                                             |  52                                             | 61.996                                          |\n",
       "\n"
      ],
      "text/plain": [
       "  ENTIDAD         ESCUELA                                         SUSTENTANTES\n",
       "1 AGUASCALIENTES  UNIV. AUT. DE AGUASCALIENTES                    277         \n",
       "2 AGUASCALIENTES  UNIV. CUAUHTEMOC - CAMPUS AGUASCALIENTES         63         \n",
       "3 BAJA CALIFORNIA CENTRO EST. UNIV. XOCHICALCO, U. ENSENADA       237         \n",
       "4 BAJA CALIFORNIA CENTRO EST. UNIV. XOCHICALCO, U. TIJUANA        175         \n",
       "5 BAJA CALIFORNIA UNIV. AUT. DE B.C. - CAMPUS VALLE DE LAS PALMAS 182         \n",
       "6 BAJA CALIFORNIA UNIV. AUT. DE B.C., U. ENSENADA                 219         \n",
       "  SELECCIONADOS PROMEDIO\n",
       "1 122           66.781  \n",
       "2  21           62.571  \n",
       "3  38           58.180  \n",
       "4  29           61.482  \n",
       "5  37           61.430  \n",
       "6  52           61.996  "
      ]
     },
     "metadata": {},
     "output_type": "display_data"
    }
   ],
   "source": [
    "datos19 <- read.csv(\"Downloads/20199.csv\")\n",
    "head(datos19)"
   ]
  },
  {
   "cell_type": "markdown",
   "metadata": {},
   "source": [
    "## Exploración de datos"
   ]
  },
  {
   "cell_type": "markdown",
   "metadata": {},
   "source": [
    "### Ahora es posible calcular la Eficiencia hasta el año 2018"
   ]
  },
  {
   "cell_type": "markdown",
   "metadata": {},
   "source": [
    "### Mediante la formula      $$ efi = \\dfrac{seleccionados} {sustentantes} $$ "
   ]
  },
  {
   "cell_type": "code",
   "execution_count": 5,
   "metadata": {},
   "outputs": [],
   "source": [
    "datos18$efi <- datos18$SELECCIONADOS / datos18$SUSTENTANTES"
   ]
  },
  {
   "cell_type": "code",
   "execution_count": 6,
   "metadata": {},
   "outputs": [
    {
     "data": {
      "text/html": [
       "<ol class=list-inline>\n",
       "\t<li>0.351464435146443</li>\n",
       "\t<li>0.125</li>\n",
       "\t<li>0.194331983805668</li>\n",
       "\t<li>0.197368421052632</li>\n",
       "\t<li>0.118518518518519</li>\n",
       "\t<li>0.292553191489362</li>\n",
       "</ol>\n"
      ],
      "text/latex": [
       "\\begin{enumerate*}\n",
       "\\item 0.351464435146443\n",
       "\\item 0.125\n",
       "\\item 0.194331983805668\n",
       "\\item 0.197368421052632\n",
       "\\item 0.118518518518519\n",
       "\\item 0.292553191489362\n",
       "\\end{enumerate*}\n"
      ],
      "text/markdown": [
       "1. 0.351464435146443\n",
       "2. 0.125\n",
       "3. 0.194331983805668\n",
       "4. 0.197368421052632\n",
       "5. 0.118518518518519\n",
       "6. 0.292553191489362\n",
       "\n",
       "\n"
      ],
      "text/plain": [
       "[1] 0.3514644 0.1250000 0.1943320 0.1973684 0.1185185 0.2925532"
      ]
     },
     "metadata": {},
     "output_type": "display_data"
    }
   ],
   "source": [
    "head(datos18$efi)"
   ]
  },
  {
   "cell_type": "code",
   "execution_count": 7,
   "metadata": {},
   "outputs": [
    {
     "data": {
      "image/png": "[encoded data removed]",
      "text/plain": [
       "Plot with title \"Eficiencia ENARM hasta 2018\""
      ]
     },
     "metadata": {},
     "output_type": "display_data"
    }
   ],
   "source": [
    "options(repr.plot.width=6,repr.plot.height=6/1.61803)\n",
    "hist(datos18$efi,main=\"Eficiencia ENARM hasta 2018\",ylab=\"FRECUENCIA ABSOLUTA\",xlab=\"FRECUENCIA\",ylim=c(0,500),labels=T, col=\"orange\")"
   ]
  },
  {
   "cell_type": "markdown",
   "metadata": {},
   "source": [
    "### Al observar el histograma de eficiencias hasta el año 2018 es posible afirmar que el tipo de distribución es de tipo Normal"
   ]
  },
  {
   "cell_type": "markdown",
   "metadata": {},
   "source": [
    "# Eficiencia 2019"
   ]
  },
  {
   "cell_type": "code",
   "execution_count": 48,
   "metadata": {},
   "outputs": [],
   "source": [
    "datos19$efi <- datos19$SELECCIONADOS / datos19$SUSTENTANTES"
   ]
  },
  {
   "cell_type": "code",
   "execution_count": 49,
   "metadata": {},
   "outputs": [
    {
     "data": {
      "text/html": [
       "<table>\n",
       "<thead><tr><th scope=col>ENTIDAD</th><th scope=col>ESCUELA</th><th scope=col>SUSTENTANTES</th><th scope=col>SELECCIONADOS</th><th scope=col>PROMEDIO</th><th scope=col>efi</th></tr></thead>\n",
       "<tbody>\n",
       "\t<tr><td>AGUASCALIENTES                                 </td><td>UNIV. AUT. DE AGUASCALIENTES                   </td><td>277                                            </td><td>122                                            </td><td>66.781                                         </td><td>0.4404332                                      </td></tr>\n",
       "\t<tr><td>AGUASCALIENTES                                 </td><td>UNIV. CUAUHTEMOC - CAMPUS AGUASCALIENTES       </td><td> 63                                            </td><td> 21                                            </td><td>62.571                                         </td><td>0.3333333                                      </td></tr>\n",
       "\t<tr><td>BAJA CALIFORNIA                                </td><td>CENTRO EST. UNIV. XOCHICALCO, U. ENSENADA      </td><td>237                                            </td><td> 38                                            </td><td>58.180                                         </td><td>0.1603376                                      </td></tr>\n",
       "\t<tr><td>BAJA CALIFORNIA                                </td><td>CENTRO EST. UNIV. XOCHICALCO, U. TIJUANA       </td><td>175                                            </td><td> 29                                            </td><td>61.482                                         </td><td>0.1657143                                      </td></tr>\n",
       "\t<tr><td>BAJA CALIFORNIA                                </td><td>UNIV. AUT. DE B.C. - CAMPUS VALLE DE LAS PALMAS</td><td>182                                            </td><td> 37                                            </td><td>61.430                                         </td><td>0.2032967                                      </td></tr>\n",
       "\t<tr><td>BAJA CALIFORNIA                                </td><td>UNIV. AUT. DE B.C., U. ENSENADA                </td><td>219                                            </td><td> 52                                            </td><td>61.996                                         </td><td>0.2374429                                      </td></tr>\n",
       "</tbody>\n",
       "</table>\n"
      ],
      "text/latex": [
       "\\begin{tabular}{r|llllll}\n",
       " ENTIDAD & ESCUELA & SUSTENTANTES & SELECCIONADOS & PROMEDIO & efi\\\\\n",
       "\\hline\n",
       "\t AGUASCALIENTES                                  & UNIV. AUT. DE AGUASCALIENTES                    & 277                                             & 122                                             & 66.781                                          & 0.4404332                                      \\\\\n",
       "\t AGUASCALIENTES                                  & UNIV. CUAUHTEMOC - CAMPUS AGUASCALIENTES        &  63                                             &  21                                             & 62.571                                          & 0.3333333                                      \\\\\n",
       "\t BAJA CALIFORNIA                                 & CENTRO EST. UNIV. XOCHICALCO, U. ENSENADA       & 237                                             &  38                                             & 58.180                                          & 0.1603376                                      \\\\\n",
       "\t BAJA CALIFORNIA                                 & CENTRO EST. UNIV. XOCHICALCO, U. TIJUANA        & 175                                             &  29                                             & 61.482                                          & 0.1657143                                      \\\\\n",
       "\t BAJA CALIFORNIA                                 & UNIV. AUT. DE B.C. - CAMPUS VALLE DE LAS PALMAS & 182                                             &  37                                             & 61.430                                          & 0.2032967                                      \\\\\n",
       "\t BAJA CALIFORNIA                                 & UNIV. AUT. DE B.C., U. ENSENADA                 & 219                                             &  52                                             & 61.996                                          & 0.2374429                                      \\\\\n",
       "\\end{tabular}\n"
      ],
      "text/markdown": [
       "\n",
       "| ENTIDAD | ESCUELA | SUSTENTANTES | SELECCIONADOS | PROMEDIO | efi |\n",
       "|---|---|---|---|---|---|\n",
       "| AGUASCALIENTES                                  | UNIV. AUT. DE AGUASCALIENTES                    | 277                                             | 122                                             | 66.781                                          | 0.4404332                                       |\n",
       "| AGUASCALIENTES                                  | UNIV. CUAUHTEMOC - CAMPUS AGUASCALIENTES        |  63                                             |  21                                             | 62.571                                          | 0.3333333                                       |\n",
       "| BAJA CALIFORNIA                                 | CENTRO EST. UNIV. XOCHICALCO, U. ENSENADA       | 237                                             |  38                                             | 58.180                                          | 0.1603376                                       |\n",
       "| BAJA CALIFORNIA                                 | CENTRO EST. UNIV. XOCHICALCO, U. TIJUANA        | 175                                             |  29                                             | 61.482                                          | 0.1657143                                       |\n",
       "| BAJA CALIFORNIA                                 | UNIV. AUT. DE B.C. - CAMPUS VALLE DE LAS PALMAS | 182                                             |  37                                             | 61.430                                          | 0.2032967                                       |\n",
       "| BAJA CALIFORNIA                                 | UNIV. AUT. DE B.C., U. ENSENADA                 | 219                                             |  52                                             | 61.996                                          | 0.2374429                                       |\n",
       "\n"
      ],
      "text/plain": [
       "  ENTIDAD         ESCUELA                                         SUSTENTANTES\n",
       "1 AGUASCALIENTES  UNIV. AUT. DE AGUASCALIENTES                    277         \n",
       "2 AGUASCALIENTES  UNIV. CUAUHTEMOC - CAMPUS AGUASCALIENTES         63         \n",
       "3 BAJA CALIFORNIA CENTRO EST. UNIV. XOCHICALCO, U. ENSENADA       237         \n",
       "4 BAJA CALIFORNIA CENTRO EST. UNIV. XOCHICALCO, U. TIJUANA        175         \n",
       "5 BAJA CALIFORNIA UNIV. AUT. DE B.C. - CAMPUS VALLE DE LAS PALMAS 182         \n",
       "6 BAJA CALIFORNIA UNIV. AUT. DE B.C., U. ENSENADA                 219         \n",
       "  SELECCIONADOS PROMEDIO efi      \n",
       "1 122           66.781   0.4404332\n",
       "2  21           62.571   0.3333333\n",
       "3  38           58.180   0.1603376\n",
       "4  29           61.482   0.1657143\n",
       "5  37           61.430   0.2032967\n",
       "6  52           61.996   0.2374429"
      ]
     },
     "metadata": {},
     "output_type": "display_data"
    }
   ],
   "source": [
    "head (datos19)"
   ]
  },
  {
   "cell_type": "code",
   "execution_count": 51,
   "metadata": {},
   "outputs": [],
   "source": [
    "efi2019 <- mean(datos19$efi)"
   ]
  },
  {
   "cell_type": "code",
   "execution_count": 52,
   "metadata": {},
   "outputs": [
    {
     "data": {
      "text/html": [
       "0.213455526877338"
      ],
      "text/latex": [
       "0.213455526877338"
      ],
      "text/markdown": [
       "0.213455526877338"
      ],
      "text/plain": [
       "[1] 0.2134555"
      ]
     },
     "metadata": {},
     "output_type": "display_data"
    }
   ],
   "source": [
    "efi2019"
   ]
  },
  {
   "cell_type": "markdown",
   "metadata": {},
   "source": [
    "### Rango de significancia $$ \\mu \\pm 2\\sigma $$"
   ]
  },
  {
   "cell_type": "code",
   "execution_count": 61,
   "metadata": {},
   "outputs": [],
   "source": [
    "efi2018 <- mean (datos18$efi,na.rm = TRUE)"
   ]
  },
  {
   "cell_type": "code",
   "execution_count": 62,
   "metadata": {},
   "outputs": [],
   "source": [
    "DesvSt <- sd(datos18$efi,na.rm = TRUE)"
   ]
  },
  {
   "cell_type": "code",
   "execution_count": 71,
   "metadata": {},
   "outputs": [],
   "source": [
    "limSup <- efi2018+2*DesvSt"
   ]
  },
  {
   "cell_type": "code",
   "execution_count": 72,
   "metadata": {},
   "outputs": [
    {
     "data": {
      "text/html": [
       "0.544627235554998"
      ],
      "text/latex": [
       "0.544627235554998"
      ],
      "text/markdown": [
       "0.544627235554998"
      ],
      "text/plain": [
       "[1] 0.5446272"
      ]
     },
     "metadata": {},
     "output_type": "display_data"
    }
   ],
   "source": [
    "limSup"
   ]
  },
  {
   "cell_type": "code",
   "execution_count": 78,
   "metadata": {},
   "outputs": [],
   "source": [
    "limInf <- efi2018-2*DesvSt"
   ]
  },
  {
   "cell_type": "code",
   "execution_count": 79,
   "metadata": {},
   "outputs": [
    {
     "data": {
      "text/html": [
       "-0.0594242049271987"
      ],
      "text/latex": [
       "-0.0594242049271987"
      ],
      "text/markdown": [
       "-0.0594242049271987"
      ],
      "text/plain": [
       "[1] -0.0594242"
      ]
     },
     "metadata": {},
     "output_type": "display_data"
    }
   ],
   "source": [
    "limInf"
   ]
  },
  {
   "cell_type": "code",
   "execution_count": 83,
   "metadata": {},
   "outputs": [],
   "source": [
    "limInf2 <- limSup+limInf"
   ]
  },
  {
   "cell_type": "code",
   "execution_count": 84,
   "metadata": {},
   "outputs": [
    {
     "data": {
      "text/html": [
       "0.485203030627799"
      ],
      "text/latex": [
       "0.485203030627799"
      ],
      "text/markdown": [
       "0.485203030627799"
      ],
      "text/plain": [
       "[1] 0.485203"
      ]
     },
     "metadata": {},
     "output_type": "display_data"
    }
   ],
   "source": [
    "limInf2"
   ]
  },
  {
   "cell_type": "markdown",
   "metadata": {},
   "source": [
    "### Para determinar el rango se compara el valor de \"efi2019\" respecto a los límites superior e inferior. Recordando el valor e 2019. "
   ]
  },
  {
   "cell_type": "code",
   "execution_count": 80,
   "metadata": {},
   "outputs": [
    {
     "data": {
      "text/html": [
       "0.213455526877338"
      ],
      "text/latex": [
       "0.213455526877338"
      ],
      "text/markdown": [
       "0.213455526877338"
      ],
      "text/plain": [
       "[1] 0.2134555"
      ]
     },
     "metadata": {},
     "output_type": "display_data"
    }
   ],
   "source": [
    "efi2019"
   ]
  },
  {
   "cell_type": "markdown",
   "metadata": {},
   "source": [
    "### El rango de significancia se encuentra entre los valores 0.544-0.485. Por tanto, se puede determinar que la dificultad del ENARM no ha cambiado y la acusación de la Ultra derecha opresora contra AMLO es FALSA"
   ]
  },
  {
   "cell_type": "markdown",
   "metadata": {},
   "source": [
    "<img src=\"https://i.imgur.com/wo7N8HX.jpg\" width=\"420\">"
   ]
  }
 ],
 "metadata": {
  "kernelspec": {
   "display_name": "R",
   "language": "R",
   "name": "ir"
  },
  "language_info": {
   "codemirror_mode": "r",
   "file_extension": ".r",
   "mimetype": "text/x-r-source",
   "name": "R",
   "pygments_lexer": "r",
   "version": "3.6.1"
  }
 },
 "nbformat": 4,
 "nbformat_minor": 2
}
