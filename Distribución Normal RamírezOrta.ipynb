{
 "cells": [
  {
   "cell_type": "markdown",
   "metadata": {},
   "source": [
    "# Descripción"
   ]
  },
  {
   "cell_type": "markdown",
   "metadata": {},
   "source": [
    "### El uso de los comandos \"dnorm, pnorm, qnorm y rnorm\" en R tienen como utilidad distintos niveles de análisis en el estudio probabilístico de una distribución Normal de variables continuas. "
   ]
  },
  {
   "cell_type": "markdown",
   "metadata": {},
   "source": [
    "### Cada uno de estos niveles de análisis se compone de una Media (mean) y Desviación estandar (sd). En caso de no especificarse asumen valores de 0 y 1 respectivamente. "
   ]
  },
  {
   "cell_type": "markdown",
   "metadata": {},
   "source": [
    "# Comandos"
   ]
  },
  {
   "cell_type": "markdown",
   "metadata": {},
   "source": [
    "1. dnorm(x, mean = 0, sd = 1, log = FALSE)\n",
    "1. pnorm(q, mean = 0, sd = 1, lower.tail = TRUE, log.p = FALSE)\n",
    "1. qnorm(p, mean = 0, sd = 1, lower.tail = TRUE, log.p = FALSE)\n",
    "1. rnorm(n, mean = 0, sd = 1)"
   ]
  },
  {
   "cell_type": "markdown",
   "metadata": {},
   "source": [
    "## Cuyos valores significan"
   ]
  },
  {
   "cell_type": "markdown",
   "metadata": {},
   "source": [
    "##### x, q: vector de cuantiles.\n",
    "##### p: vector de probabilidades.\n",
    "##### n: número de observaciones.\n",
    "##### mean: vector de Media.\n",
    "##### sd: vector de desviación estandar.\n",
    "##### log, log.p: logical; if TRUE, se dan p probabilidades como log(p).\n",
    "##### lower.tail: logical; if TRUE (default), probabilidades son 𝑃[𝑋≤𝑥] de otro modo, 𝑃[𝑋>𝑥]."
   ]
  },
  {
   "cell_type": "markdown",
   "metadata": {},
   "source": [
    "# dnorm"
   ]
  },
  {
   "cell_type": "markdown",
   "metadata": {},
   "source": [
    "### Como es sabido, la densidad de probabilidad para una distribución normal es: 𝑓(𝑥)=1/(√(2π)σ)𝑒−((𝑥−μ)2/(2σ2))"
   ]
  },
  {
   "cell_type": "markdown",
   "metadata": {},
   "source": [
    "### Se utiliza para obtener el valor de densidad de probabilidad, el cual describe la probabilidad relativa según la cual una variable aleatoria tomará determinado valor. "
   ]
  },
  {
   "cell_type": "markdown",
   "metadata": {},
   "source": [
    "# Ejemplo "
   ]
  },
  {
   "cell_type": "code",
   "execution_count": 102,
   "metadata": {},
   "outputs": [
    {
     "data": {
      "text/html": [
       "0.0379880326851255"
      ],
      "text/latex": [
       "0.0379880326851255"
      ],
      "text/markdown": [
       "0.0379880326851255"
      ],
      "text/plain": [
       "[1] 0.03798803"
      ]
     },
     "metadata": {},
     "output_type": "display_data"
    }
   ],
   "source": [
    " dnorm(3, mean = 8, sd = 9)"
   ]
  },
  {
   "cell_type": "markdown",
   "metadata": {},
   "source": [
    "### Su expresión gráfica es acampanada, de ahí el nombre de la Campana de Gauss."
   ]
  },
  {
   "cell_type": "markdown",
   "metadata": {},
   "source": [
    "<img src=\"https://i.imgur.com/eCFXBgk.png\" width=\"1250\">"
   ]
  },
  {
   "cell_type": "markdown",
   "metadata": {},
   "source": [
    "# pnorm"
   ]
  },
  {
   "cell_type": "markdown",
   "metadata": {},
   "source": [
    " ### Se utiliza para medir la Función de distribución de probabilidad asociada a una variable aleatoria real (X) en función de otra (x); describe la probabilidad de que X tenga un valor menor o igual que x ."
   ]
  },
  {
   "cell_type": "markdown",
   "metadata": {},
   "source": [
    "## Ejemplo"
   ]
  },
  {
   "cell_type": "code",
   "execution_count": 104,
   "metadata": {},
   "outputs": [
    {
     "data": {
      "text/plain": [
       "   Min. 1st Qu.  Median    Mean 3rd Qu.    Max. \n",
       "   -3.0    -1.5     0.0     0.0     1.5     3.0 "
      ]
     },
     "metadata": {},
     "output_type": "display_data"
    }
   ],
   "source": [
    "pejemplo <- seq(-3, 3, by = .1)\n",
    "summary(pejemplo)"
   ]
  },
  {
   "cell_type": "code",
   "execution_count": 105,
   "metadata": {},
   "outputs": [
    {
     "name": "stdout",
     "output_type": "stream",
     "text": [
      " [1] -3.0 -2.9 -2.8 -2.7 -2.6 -2.5 -2.4 -2.3 -2.2 -2.1 -2.0 -1.9 -1.8 -1.7 -1.6\n",
      "[16] -1.5 -1.4 -1.3 -1.2 -1.1 -1.0 -0.9 -0.8 -0.7 -0.6 -0.5 -0.4 -0.3 -0.2 -0.1\n",
      "[31]  0.0  0.1  0.2  0.3  0.4  0.5  0.6  0.7  0.8  0.9  1.0  1.1  1.2  1.3  1.4\n",
      "[46]  1.5  1.6  1.7  1.8  1.9  2.0  2.1  2.2  2.3  2.4  2.5  2.6  2.7  2.8  2.9\n",
      "[61]  3.0\n"
     ]
    }
   ],
   "source": [
    "print(pejemplo)"
   ]
  },
  {
   "cell_type": "code",
   "execution_count": 116,
   "metadata": {},
   "outputs": [],
   "source": [
    "cdf <- pnorm(pejemplo)"
   ]
  },
  {
   "cell_type": "code",
   "execution_count": 117,
   "metadata": {},
   "outputs": [
    {
     "data": {
      "text/html": [
       "<ol class=list-inline>\n",
       "\t<li>0.00134989803163009</li>\n",
       "\t<li>0.00186581330038404</li>\n",
       "\t<li>0.00255513033042793</li>\n",
       "\t<li>0.00346697380304067</li>\n",
       "\t<li>0.00466118802371875</li>\n",
       "\t<li>0.00620966532577613</li>\n",
       "</ol>\n"
      ],
      "text/latex": [
       "\\begin{enumerate*}\n",
       "\\item 0.00134989803163009\n",
       "\\item 0.00186581330038404\n",
       "\\item 0.00255513033042793\n",
       "\\item 0.00346697380304067\n",
       "\\item 0.00466118802371875\n",
       "\\item 0.00620966532577613\n",
       "\\end{enumerate*}\n"
      ],
      "text/markdown": [
       "1. 0.00134989803163009\n",
       "2. 0.00186581330038404\n",
       "3. 0.00255513033042793\n",
       "4. 0.00346697380304067\n",
       "5. 0.00466118802371875\n",
       "6. 0.00620966532577613\n",
       "\n",
       "\n"
      ],
      "text/plain": [
       "[1] 0.001349898 0.001865813 0.002555130 0.003466974 0.004661188 0.006209665"
      ]
     },
     "metadata": {},
     "output_type": "display_data"
    }
   ],
   "source": [
    "head (cdf)"
   ]
  },
  {
   "cell_type": "code",
   "execution_count": 134,
   "metadata": {},
   "outputs": [
    {
     "data": {
      "image/png": "[encoded data removed]",
      "text/plain": [
       "Plot with title \"Ejemplo Funcion de Distribución de Probabilidades\""
      ]
     },
     "metadata": {},
     "output_type": "display_data"
    }
   ],
   "source": [
    "plot(cdf,main=\"Ejemplo Funcion de Distribución de Probabilidades\", col=\"black\", type= \"l\",xlab= \"Distribución\", ylab= \"Densidad de la Probabilidad\")"
   ]
  },
  {
   "cell_type": "markdown",
   "metadata": {},
   "source": [
    "# qnorm"
   ]
  },
  {
   "cell_type": "markdown",
   "metadata": {},
   "source": [
    "## Es la función utilizada en la Distribución Normal para el análisis de los Cuantiles (q) "
   ]
  },
  {
   "cell_type": "markdown",
   "metadata": {},
   "source": [
    "### Se busca conocer el valor del Cuartil 95 de una Distribución"
   ]
  },
  {
   "cell_type": "code",
   "execution_count": 179,
   "metadata": {},
   "outputs": [],
   "source": [
    "cuant <- qnorm(.95, pejemplo)"
   ]
  },
  {
   "cell_type": "code",
   "execution_count": 180,
   "metadata": {},
   "outputs": [
    {
     "data": {
      "text/html": [
       "<ol class=list-inline>\n",
       "\t<li>-1.35514637304853</li>\n",
       "\t<li>-1.25514637304853</li>\n",
       "\t<li>-1.15514637304853</li>\n",
       "\t<li>-1.05514637304853</li>\n",
       "\t<li>-0.955146373048529</li>\n",
       "\t<li>-0.855146373048528</li>\n",
       "</ol>\n"
      ],
      "text/latex": [
       "\\begin{enumerate*}\n",
       "\\item -1.35514637304853\n",
       "\\item -1.25514637304853\n",
       "\\item -1.15514637304853\n",
       "\\item -1.05514637304853\n",
       "\\item -0.955146373048529\n",
       "\\item -0.855146373048528\n",
       "\\end{enumerate*}\n"
      ],
      "text/markdown": [
       "1. -1.35514637304853\n",
       "2. -1.25514637304853\n",
       "3. -1.15514637304853\n",
       "4. -1.05514637304853\n",
       "5. -0.955146373048529\n",
       "6. -0.855146373048528\n",
       "\n",
       "\n"
      ],
      "text/plain": [
       "[1] -1.3551464 -1.2551464 -1.1551464 -1.0551464 -0.9551464 -0.8551464"
      ]
     },
     "metadata": {},
     "output_type": "display_data"
    }
   ],
   "source": [
    "head(cuant)"
   ]
  },
  {
   "cell_type": "code",
   "execution_count": 190,
   "metadata": {},
   "outputs": [
    {
     "data": {
      "image/png": "[encoded data removed]",
      "text/plain": [
       "Plot with title \"Ejemplo qnorm Cuantil\""
      ]
     },
     "metadata": {},
     "output_type": "display_data"
    }
   ],
   "source": [
    "boxplot(cuant,main=\"Ejemplo qnorm Cuantil\", col=\"yellow\", type= \"l\",xlab= \"Densidad\", ylab= \"Distribución\")"
   ]
  },
  {
   "cell_type": "markdown",
   "metadata": {},
   "source": [
    "# La expresión gráfica de la acumulación de probabilidades es la siguiente:"
   ]
  },
  {
   "cell_type": "code",
   "execution_count": 191,
   "metadata": {},
   "outputs": [
    {
     "data": {
      "image/png": "[encoded data removed]",
      "text/plain": [
       "Plot with title \"Ejemplo qnorm Cuantil\""
      ]
     },
     "metadata": {},
     "output_type": "display_data"
    }
   ],
   "source": [
    "plot(cuant,main=\"Ejemplo qnorm Cuantil\", col=\"green\", type= \"l\",xlab= \"Densidad\", ylab= \"Distribución\")"
   ]
  },
  {
   "cell_type": "markdown",
   "metadata": {},
   "source": [
    "# rnorm"
   ]
  },
  {
   "cell_type": "markdown",
   "metadata": {},
   "source": [
    "### Se utiliza para simular casos hipotéticos y comprobar estudios probabilísticos a partir de una muestra,  generando una distribución aleatoria controlada, con la posibilidad de definir la Media, la Desviación estandar y una Semilla aleatoria."
   ]
  },
  {
   "cell_type": "markdown",
   "metadata": {},
   "source": [
    "## Ejemplo y datos"
   ]
  },
  {
   "cell_type": "markdown",
   "metadata": {},
   "source": [
    "1. La duración para cosechar sandía se distribuye normalmente\n",
    "1. La media son 183 días\n",
    "1. La desviación estandar es de 9 días\n",
    "1. La caducidad de los alimentos la define el rango de significancia"
   ]
  },
  {
   "cell_type": "markdown",
   "metadata": {},
   "source": [
    "# Simulemos 1 millón de casos"
   ]
  },
  {
   "cell_type": "code",
   "execution_count": 193,
   "metadata": {},
   "outputs": [
    {
     "data": {
      "text/plain": [
       "   Min. 1st Qu.  Median    Mean 3rd Qu.    Max. \n",
       "  141.0   176.9   183.0   183.0   189.1   225.1 "
      ]
     },
     "metadata": {},
     "output_type": "display_data"
    }
   ],
   "source": [
    "set.seed(350)\n",
    "sim <- rnorm(1000000,183,9)\n",
    "summary(sim)"
   ]
  },
  {
   "cell_type": "code",
   "execution_count": 194,
   "metadata": {},
   "outputs": [
    {
     "data": {
      "text/html": [
       "8.99875429341057"
      ],
      "text/latex": [
       "8.99875429341057"
      ],
      "text/markdown": [
       "8.99875429341057"
      ],
      "text/plain": [
       "[1] 8.998754"
      ]
     },
     "metadata": {},
     "output_type": "display_data"
    }
   ],
   "source": [
    "sd(sim)"
   ]
  },
  {
   "cell_type": "code",
   "execution_count": 235,
   "metadata": {},
   "outputs": [
    {
     "data": {
      "image/png": "[encoded data removed]",
      "text/plain": [
       "Plot with title \"simulación 1M SANDÍAS\""
      ]
     },
     "metadata": {},
     "output_type": "display_data"
    }
   ],
   "source": [
    "options(repr.plot.width=6,repr.plot.height=6/1.61803)\n",
    "hist(sim,main=\"simulación 1M SANDÍAS\",ylab=\"FRECUENCIA\",xlab=\"DÍAS\",ylim=c(0,3e5),labels=T, col=\"purple\")"
   ]
  },
  {
   "cell_type": "markdown",
   "metadata": {},
   "source": [
    "# El millón llegó a los 205 días de su cosecha, se quiere saber si es de fiar la cosecha para su consumo."
   ]
  },
  {
   "cell_type": "code",
   "execution_count": null,
   "metadata": {},
   "outputs": [],
   "source": [
    "#rango de significancia"
   ]
  },
  {
   "cell_type": "markdown",
   "metadata": {},
   "source": [
    "$$ \\mu =183 $$ $$ \\sigma =9 $$ $$ rango = \\mu \\pm 2\\sigma $$"
   ]
  },
  {
   "cell_type": "code",
   "execution_count": 216,
   "metadata": {},
   "outputs": [
    {
     "data": {
      "text/html": [
       "201"
      ],
      "text/latex": [
       "201"
      ],
      "text/markdown": [
       "201"
      ],
      "text/plain": [
       "[1] 201"
      ]
     },
     "metadata": {},
     "output_type": "display_data"
    }
   ],
   "source": [
    "183+2*9"
   ]
  },
  {
   "cell_type": "code",
   "execution_count": 217,
   "metadata": {},
   "outputs": [
    {
     "data": {
      "text/html": [
       "153"
      ],
      "text/latex": [
       "153"
      ],
      "text/markdown": [
       "153"
      ],
      "text/plain": [
       "[1] 153"
      ]
     },
     "metadata": {},
     "output_type": "display_data"
    }
   ],
   "source": [
    "183-2*15"
   ]
  },
  {
   "cell_type": "markdown",
   "metadata": {},
   "source": [
    "# Por lo tanto, si el rango de significancia determina que antes de los 201 días es bueno comer el producto, lo más probable es que el Millón de Sandías que llegaron 215 días después de la cosecha maten a quien las consuma."
   ]
  },
  {
   "cell_type": "markdown",
   "metadata": {},
   "source": [
    "<img src=\"https://i.imgur.com/oQGKQMt.jpg\" width=\"350\">"
   ]
  }
 ],
 "metadata": {
  "kernelspec": {
   "display_name": "R",
   "language": "R",
   "name": "ir"
  },
  "language_info": {
   "codemirror_mode": "r",
   "file_extension": ".r",
   "mimetype": "text/x-r-source",
   "name": "R",
   "pygments_lexer": "r",
   "version": "3.6.1"
  }
 },
 "nbformat": 4,
 "nbformat_minor": 2
}
